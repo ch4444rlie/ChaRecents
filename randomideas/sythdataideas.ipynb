{
 "cells": [
  {
   "cell_type": "code",
   "execution_count": 1,
   "metadata": {},
   "outputs": [],
   "source": [
    "# Initial impression to synthetic data for my meme coin project\n",
    "\n",
    "\n",
    "# Example: List of names, people talking about crypto currency, this feeds into my trump coin neural network\n",
    "\n"
   ]
  },
  {
   "cell_type": "code",
   "execution_count": null,
   "metadata": {},
   "outputs": [],
   "source": [
    "# LLM generates 100 random names, representing x.com users\n",
    "\n",
    "# generates a post\n",
    "    # example post: \"elon musk is a scammer. he obviously pumped doge and bitcoin just to make a quick buck\"\n",
    "\n",
    "# Random int, 2 ints per post, between 1-1000, representing a. number of interactions like replys and quotes, b. volume of likes\n",
    "\n",
    "# Need to randomly assign a date to each datapoint within a date range"
   ]
  }
 ],
 "metadata": {
  "kernelspec": {
   "display_name": ".venv",
   "language": "python",
   "name": "python3"
  },
  "language_info": {
   "codemirror_mode": {
    "name": "ipython",
    "version": 3
   },
   "file_extension": ".py",
   "mimetype": "text/x-python",
   "name": "python",
   "nbconvert_exporter": "python",
   "pygments_lexer": "ipython3",
   "version": "3.11.10"
  }
 },
 "nbformat": 4,
 "nbformat_minor": 2
}
